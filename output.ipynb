name = input("What is your name? ")
favMovie = input("What is your favorite movie? ")
print("Hey, " + name + " let's watch " + favMovie + " together ")
