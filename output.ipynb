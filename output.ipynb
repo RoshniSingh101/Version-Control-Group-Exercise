name = input("What is your name? ")
favMovie = input("What is your favorite movie?") 
